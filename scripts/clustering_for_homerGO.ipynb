{
 "cells": [
  {
   "cell_type": "code",
   "execution_count": 1,
   "metadata": {},
   "outputs": [],
   "source": [
    "from sklearn import manifold\n",
    "import numpy as np\n",
    "import pandas as pd"
   ]
  },
  {
   "cell_type": "code",
   "execution_count": 2,
   "metadata": {},
   "outputs": [],
   "source": [
    "cluster = pd.read_csv(\"p56_Redo/p56.distal.3d.cluster\", header=None,names=[\"Cluster\"])\n",
    "barcodes = pd.read_csv(\"p56_Redo/p56.xgi\", header=None, names=[\"Barcodes\"])\n",
    "#tsne = pd.read_csv(\"p56.uniq.bedsort.bed\")\n",
    "df = pd.concat([cluster,barcodes], axis=1)\n",
    "#df.sort_values(by=\"Cluster\")"
   ]
  },
  {
   "cell_type": "code",
   "execution_count": 4,
   "metadata": {
    "scrolled": true
   },
   "outputs": [
    {
     "data": {
      "text/plain": [
       "(1408, 2)"
      ]
     },
     "execution_count": 4,
     "metadata": {},
     "output_type": "execute_result"
    }
   ],
   "source": [
    "df.shape"
   ]
  },
  {
   "cell_type": "code",
   "execution_count": 5,
   "metadata": {},
   "outputs": [
    {
     "data": {
      "text/html": [
       "<div>\n",
       "<style scoped>\n",
       "    .dataframe tbody tr th:only-of-type {\n",
       "        vertical-align: middle;\n",
       "    }\n",
       "\n",
       "    .dataframe tbody tr th {\n",
       "        vertical-align: top;\n",
       "    }\n",
       "\n",
       "    .dataframe thead th {\n",
       "        text-align: right;\n",
       "    }\n",
       "</style>\n",
       "<table border=\"1\" class=\"dataframe\">\n",
       "  <thead>\n",
       "    <tr style=\"text-align: right;\">\n",
       "      <th></th>\n",
       "      <th>Chr</th>\n",
       "      <th>Start</th>\n",
       "      <th>End</th>\n",
       "      <th>Barcodes</th>\n",
       "    </tr>\n",
       "  </thead>\n",
       "  <tbody>\n",
       "    <tr>\n",
       "      <th>0</th>\n",
       "      <td>chr15</td>\n",
       "      <td>87405420</td>\n",
       "      <td>87405615</td>\n",
       "      <td>AGCGATAGAAGAGGCAAAGGAGTACAGGACGT</td>\n",
       "    </tr>\n",
       "    <tr>\n",
       "      <th>1</th>\n",
       "      <td>chr11</td>\n",
       "      <td>121621764</td>\n",
       "      <td>121621960</td>\n",
       "      <td>AGCGATAGAAGAGGCAAAGGAGTACAGGACGT</td>\n",
       "    </tr>\n",
       "    <tr>\n",
       "      <th>2</th>\n",
       "      <td>chr10</td>\n",
       "      <td>42351275</td>\n",
       "      <td>42351470</td>\n",
       "      <td>AGCGATAGAAGAGGCAAAGGAGTACAGGACGT</td>\n",
       "    </tr>\n",
       "    <tr>\n",
       "      <th>3</th>\n",
       "      <td>chr19</td>\n",
       "      <td>7113815</td>\n",
       "      <td>7114010</td>\n",
       "      <td>AGCGATAGAAGAGGCAAAGGAGTACAGGACGT</td>\n",
       "    </tr>\n",
       "    <tr>\n",
       "      <th>4</th>\n",
       "      <td>chr8</td>\n",
       "      <td>33278265</td>\n",
       "      <td>33278461</td>\n",
       "      <td>AGCGATAGAAGAGGCAAAGGAGTACAGGACGT</td>\n",
       "    </tr>\n",
       "  </tbody>\n",
       "</table>\n",
       "</div>"
      ],
      "text/plain": [
       "     Chr      Start        End                          Barcodes\n",
       "0  chr15   87405420   87405615  AGCGATAGAAGAGGCAAAGGAGTACAGGACGT\n",
       "1  chr11  121621764  121621960  AGCGATAGAAGAGGCAAAGGAGTACAGGACGT\n",
       "2  chr10   42351275   42351470  AGCGATAGAAGAGGCAAAGGAGTACAGGACGT\n",
       "3  chr19    7113815    7114010  AGCGATAGAAGAGGCAAAGGAGTACAGGACGT\n",
       "4   chr8   33278265   33278461  AGCGATAGAAGAGGCAAAGGAGTACAGGACGT"
      ]
     },
     "execution_count": 5,
     "metadata": {},
     "output_type": "execute_result"
    }
   ],
   "source": [
    "peaks = pd.read_csv(\"p56_Redo/p56.rep1.bed\", sep='\\t', header=None, names=[\"Chr\", \"Start\", \"End\", \"Barcodes\"])\n",
    "peaks.head()"
   ]
  },
  {
   "cell_type": "code",
   "execution_count": 26,
   "metadata": {},
   "outputs": [],
   "source": [
    "#peaks[\"Strand\"]='+'\n",
    "#peaks.iloc[1::2, 4] = '-'\n",
    "#peaks"
   ]
  },
  {
   "cell_type": "code",
   "execution_count": 6,
   "metadata": {},
   "outputs": [
    {
     "data": {
      "text/html": [
       "<div>\n",
       "<style scoped>\n",
       "    .dataframe tbody tr th:only-of-type {\n",
       "        vertical-align: middle;\n",
       "    }\n",
       "\n",
       "    .dataframe tbody tr th {\n",
       "        vertical-align: top;\n",
       "    }\n",
       "\n",
       "    .dataframe thead th {\n",
       "        text-align: right;\n",
       "    }\n",
       "</style>\n",
       "<table border=\"1\" class=\"dataframe\">\n",
       "  <thead>\n",
       "    <tr style=\"text-align: right;\">\n",
       "      <th></th>\n",
       "      <th>Chr</th>\n",
       "      <th>Start</th>\n",
       "      <th>End</th>\n",
       "      <th>Barcodes</th>\n",
       "      <th>Cluster</th>\n",
       "    </tr>\n",
       "  </thead>\n",
       "  <tbody>\n",
       "    <tr>\n",
       "      <th>0</th>\n",
       "      <td>chr1</td>\n",
       "      <td>53766096</td>\n",
       "      <td>53766291</td>\n",
       "      <td>AGCGATAGAAGAGGCACCTAGAGTTATAGCCT</td>\n",
       "      <td>7</td>\n",
       "    </tr>\n",
       "    <tr>\n",
       "      <th>1</th>\n",
       "      <td>chr1</td>\n",
       "      <td>38783808</td>\n",
       "      <td>38784004</td>\n",
       "      <td>AGCGATAGAAGAGGCACCTAGAGTTATAGCCT</td>\n",
       "      <td>7</td>\n",
       "    </tr>\n",
       "    <tr>\n",
       "      <th>2</th>\n",
       "      <td>chr3</td>\n",
       "      <td>49031970</td>\n",
       "      <td>49032166</td>\n",
       "      <td>AGCGATAGAAGAGGCACCTAGAGTTATAGCCT</td>\n",
       "      <td>7</td>\n",
       "    </tr>\n",
       "    <tr>\n",
       "      <th>3</th>\n",
       "      <td>chr15</td>\n",
       "      <td>28042705</td>\n",
       "      <td>28042901</td>\n",
       "      <td>AGCGATAGAAGAGGCACCTAGAGTTATAGCCT</td>\n",
       "      <td>7</td>\n",
       "    </tr>\n",
       "    <tr>\n",
       "      <th>4</th>\n",
       "      <td>chr19</td>\n",
       "      <td>3281423</td>\n",
       "      <td>3281619</td>\n",
       "      <td>AGCGATAGAAGAGGCACCTAGAGTTATAGCCT</td>\n",
       "      <td>7</td>\n",
       "    </tr>\n",
       "  </tbody>\n",
       "</table>\n",
       "</div>"
      ],
      "text/plain": [
       "     Chr     Start       End                          Barcodes  Cluster\n",
       "0   chr1  53766096  53766291  AGCGATAGAAGAGGCACCTAGAGTTATAGCCT        7\n",
       "1   chr1  38783808  38784004  AGCGATAGAAGAGGCACCTAGAGTTATAGCCT        7\n",
       "2   chr3  49031970  49032166  AGCGATAGAAGAGGCACCTAGAGTTATAGCCT        7\n",
       "3  chr15  28042705  28042901  AGCGATAGAAGAGGCACCTAGAGTTATAGCCT        7\n",
       "4  chr19   3281423   3281619  AGCGATAGAAGAGGCACCTAGAGTTATAGCCT        7"
      ]
     },
     "execution_count": 6,
     "metadata": {},
     "output_type": "execute_result"
    }
   ],
   "source": [
    "merged = pd.merge(peaks, df, on=\"Barcodes\")\n",
    "merged.head()"
   ]
  },
  {
   "cell_type": "code",
   "execution_count": 7,
   "metadata": {},
   "outputs": [
    {
     "data": {
      "text/plain": [
       "Cluster    10\n",
       "dtype: int64"
      ]
     },
     "execution_count": 7,
     "metadata": {},
     "output_type": "execute_result"
    }
   ],
   "source": [
    "cluster.max()"
   ]
  },
  {
   "cell_type": "code",
   "execution_count": 10,
   "metadata": {
    "scrolled": true
   },
   "outputs": [
    {
     "name": "stderr",
     "output_type": "stream",
     "text": [
      "/home/roman/miniconda3/lib/python3.6/site-packages/ipykernel_launcher.py:2: SettingWithCopyWarning: \n",
      "A value is trying to be set on a copy of a slice from a DataFrame.\n",
      "Try using .loc[row_indexer,col_indexer] = value instead\n",
      "\n",
      "See the caveats in the documentation: http://pandas.pydata.org/pandas-docs/stable/indexing.html#indexing-view-versus-copy\n",
      "  \n",
      "/home/roman/miniconda3/lib/python3.6/site-packages/ipykernel_launcher.py:4: SettingWithCopyWarning: \n",
      "A value is trying to be set on a copy of a slice from a DataFrame.\n",
      "Try using .loc[row_indexer,col_indexer] = value instead\n",
      "\n",
      "See the caveats in the documentation: http://pandas.pydata.org/pandas-docs/stable/indexing.html#indexing-view-versus-copy\n",
      "  after removing the cwd from sys.path.\n",
      "/home/roman/miniconda3/lib/python3.6/site-packages/ipykernel_launcher.py:6: SettingWithCopyWarning: \n",
      "A value is trying to be set on a copy of a slice from a DataFrame.\n",
      "Try using .loc[row_indexer,col_indexer] = value instead\n",
      "\n",
      "See the caveats in the documentation: http://pandas.pydata.org/pandas-docs/stable/indexing.html#indexing-view-versus-copy\n",
      "  \n",
      "/home/roman/miniconda3/lib/python3.6/site-packages/ipykernel_launcher.py:8: SettingWithCopyWarning: \n",
      "A value is trying to be set on a copy of a slice from a DataFrame.\n",
      "Try using .loc[row_indexer,col_indexer] = value instead\n",
      "\n",
      "See the caveats in the documentation: http://pandas.pydata.org/pandas-docs/stable/indexing.html#indexing-view-versus-copy\n",
      "  \n",
      "/home/roman/miniconda3/lib/python3.6/site-packages/ipykernel_launcher.py:10: SettingWithCopyWarning: \n",
      "A value is trying to be set on a copy of a slice from a DataFrame.\n",
      "Try using .loc[row_indexer,col_indexer] = value instead\n",
      "\n",
      "See the caveats in the documentation: http://pandas.pydata.org/pandas-docs/stable/indexing.html#indexing-view-versus-copy\n",
      "  # Remove the CWD from sys.path while we load stuff.\n",
      "/home/roman/miniconda3/lib/python3.6/site-packages/ipykernel_launcher.py:12: SettingWithCopyWarning: \n",
      "A value is trying to be set on a copy of a slice from a DataFrame.\n",
      "Try using .loc[row_indexer,col_indexer] = value instead\n",
      "\n",
      "See the caveats in the documentation: http://pandas.pydata.org/pandas-docs/stable/indexing.html#indexing-view-versus-copy\n",
      "  if sys.path[0] == '':\n",
      "/home/roman/miniconda3/lib/python3.6/site-packages/ipykernel_launcher.py:14: SettingWithCopyWarning: \n",
      "A value is trying to be set on a copy of a slice from a DataFrame.\n",
      "Try using .loc[row_indexer,col_indexer] = value instead\n",
      "\n",
      "See the caveats in the documentation: http://pandas.pydata.org/pandas-docs/stable/indexing.html#indexing-view-versus-copy\n",
      "  \n",
      "/home/roman/miniconda3/lib/python3.6/site-packages/ipykernel_launcher.py:16: SettingWithCopyWarning: \n",
      "A value is trying to be set on a copy of a slice from a DataFrame.\n",
      "Try using .loc[row_indexer,col_indexer] = value instead\n",
      "\n",
      "See the caveats in the documentation: http://pandas.pydata.org/pandas-docs/stable/indexing.html#indexing-view-versus-copy\n",
      "  app.launch_new_instance()\n",
      "/home/roman/miniconda3/lib/python3.6/site-packages/ipykernel_launcher.py:18: SettingWithCopyWarning: \n",
      "A value is trying to be set on a copy of a slice from a DataFrame.\n",
      "Try using .loc[row_indexer,col_indexer] = value instead\n",
      "\n",
      "See the caveats in the documentation: http://pandas.pydata.org/pandas-docs/stable/indexing.html#indexing-view-versus-copy\n",
      "/home/roman/miniconda3/lib/python3.6/site-packages/ipykernel_launcher.py:20: SettingWithCopyWarning: \n",
      "A value is trying to be set on a copy of a slice from a DataFrame.\n",
      "Try using .loc[row_indexer,col_indexer] = value instead\n",
      "\n",
      "See the caveats in the documentation: http://pandas.pydata.org/pandas-docs/stable/indexing.html#indexing-view-versus-copy\n"
     ]
    }
   ],
   "source": [
    "c1 = merged[merged.Cluster==1]\n",
    "c1[\"Strand\"] = 0\n",
    "c2 = merged[merged.Cluster==2]\n",
    "c2[\"Strand\"] = 0\n",
    "c3 = merged[merged.Cluster==3]\n",
    "c3[\"Strand\"] = 0\n",
    "c4 = merged[merged.Cluster==4]\n",
    "c4[\"Strand\"] = 0\n",
    "c5 = merged[merged.Cluster==5]\n",
    "c5[\"Strand\"] = 0\n",
    "c6 = merged[merged.Cluster==6]\n",
    "c6[\"Strand\"] = 0\n",
    "c7 = merged[merged.Cluster==7]\n",
    "c7[\"Strand\"] = 0\n",
    "c8 = merged[merged.Cluster==8]\n",
    "c8[\"Strand\"] = 0\n",
    "c9 = merged[merged.Cluster==9]\n",
    "c9[\"Strand\"] = 0\n",
    "c10 = merged[merged.Cluster==10]\n",
    "c10[\"Strand\"] = 0"
   ]
  },
  {
   "cell_type": "code",
   "execution_count": 13,
   "metadata": {},
   "outputs": [
    {
     "data": {
      "text/html": [
       "<div>\n",
       "<style scoped>\n",
       "    .dataframe tbody tr th:only-of-type {\n",
       "        vertical-align: middle;\n",
       "    }\n",
       "\n",
       "    .dataframe tbody tr th {\n",
       "        vertical-align: top;\n",
       "    }\n",
       "\n",
       "    .dataframe thead th {\n",
       "        text-align: right;\n",
       "    }\n",
       "</style>\n",
       "<table border=\"1\" class=\"dataframe\">\n",
       "  <thead>\n",
       "    <tr style=\"text-align: right;\">\n",
       "      <th></th>\n",
       "      <th>Chr</th>\n",
       "      <th>Start</th>\n",
       "      <th>End</th>\n",
       "      <th>Barcodes</th>\n",
       "      <th>Cluster</th>\n",
       "      <th>Strand</th>\n",
       "    </tr>\n",
       "  </thead>\n",
       "  <tbody>\n",
       "    <tr>\n",
       "      <th>405237</th>\n",
       "      <td>chr17</td>\n",
       "      <td>71176695</td>\n",
       "      <td>71176890</td>\n",
       "      <td>AGCGATAGATCTCAGGCCTAGAGTCAGGACGT</td>\n",
       "      <td>10</td>\n",
       "      <td>0</td>\n",
       "    </tr>\n",
       "    <tr>\n",
       "      <th>405238</th>\n",
       "      <td>chr11</td>\n",
       "      <td>93632215</td>\n",
       "      <td>93632410</td>\n",
       "      <td>AGCGATAGATCTCAGGCCTAGAGTCAGGACGT</td>\n",
       "      <td>10</td>\n",
       "      <td>0</td>\n",
       "    </tr>\n",
       "    <tr>\n",
       "      <th>405239</th>\n",
       "      <td>chr2</td>\n",
       "      <td>163419530</td>\n",
       "      <td>163419726</td>\n",
       "      <td>AGCGATAGATCTCAGGCCTAGAGTCAGGACGT</td>\n",
       "      <td>10</td>\n",
       "      <td>0</td>\n",
       "    </tr>\n",
       "    <tr>\n",
       "      <th>405240</th>\n",
       "      <td>chr7</td>\n",
       "      <td>65885411</td>\n",
       "      <td>65885607</td>\n",
       "      <td>AGCGATAGATCTCAGGCCTAGAGTCAGGACGT</td>\n",
       "      <td>10</td>\n",
       "      <td>0</td>\n",
       "    </tr>\n",
       "    <tr>\n",
       "      <th>405241</th>\n",
       "      <td>chr7</td>\n",
       "      <td>141195184</td>\n",
       "      <td>141195380</td>\n",
       "      <td>AGCGATAGATCTCAGGCCTAGAGTCAGGACGT</td>\n",
       "      <td>10</td>\n",
       "      <td>0</td>\n",
       "    </tr>\n",
       "  </tbody>\n",
       "</table>\n",
       "</div>"
      ],
      "text/plain": [
       "          Chr      Start        End                          Barcodes  \\\n",
       "405237  chr17   71176695   71176890  AGCGATAGATCTCAGGCCTAGAGTCAGGACGT   \n",
       "405238  chr11   93632215   93632410  AGCGATAGATCTCAGGCCTAGAGTCAGGACGT   \n",
       "405239   chr2  163419530  163419726  AGCGATAGATCTCAGGCCTAGAGTCAGGACGT   \n",
       "405240   chr7   65885411   65885607  AGCGATAGATCTCAGGCCTAGAGTCAGGACGT   \n",
       "405241   chr7  141195184  141195380  AGCGATAGATCTCAGGCCTAGAGTCAGGACGT   \n",
       "\n",
       "        Cluster  Strand  \n",
       "405237       10       0  \n",
       "405238       10       0  \n",
       "405239       10       0  \n",
       "405240       10       0  \n",
       "405241       10       0  "
      ]
     },
     "execution_count": 13,
     "metadata": {},
     "output_type": "execute_result"
    }
   ],
   "source": [
    "c10.head()"
   ]
  },
  {
   "cell_type": "code",
   "execution_count": 14,
   "metadata": {},
   "outputs": [],
   "source": [
    "c1.to_csv(\"p56_Redo/p56.3d.dbscan.c1.bed\", sep='\\t', header=False, index=False)\n",
    "c2.to_csv(\"p56_Redo/p56.3d.dbscan.c2.bed\", sep='\\t', header=False, index=False)\n",
    "c3.to_csv(\"p56_Redo/p56.3d.dbscan.c3.bed\", sep='\\t', header=False, index=False)\n",
    "c4.to_csv(\"p56_Redo/p56.3d.dbscan.c4.bed\", sep='\\t', header=False, index=False)\n",
    "c5.to_csv(\"p56_Redo/p56.3d.dbscan.c5.bed\", sep='\\t', header=False, index=False)\n",
    "c6.to_csv(\"p56_Redo/p56.3d.dbscan.c6.bed\", sep='\\t', header=False, index=False)\n",
    "c7.to_csv(\"p56_Redo/p56.3d.dbscan.c7.bed\", sep='\\t', header=False, index=False)\n",
    "c8.to_csv(\"p56_Redo/p56.3d.dbscan.c8.bed\", sep='\\t', header=False, index=False)\n",
    "c9.to_csv(\"p56_Redo/p56.3d.dbscan.c9.bed\", sep='\\t', header=False, index=False)\n",
    "c10.to_csv(\"p56_Redo/p56.3d.dbscan.c10.bed\", sep='\\t', header=False, index=False)"
   ]
  },
  {
   "cell_type": "code",
   "execution_count": null,
   "metadata": {},
   "outputs": [],
   "source": []
  },
  {
   "cell_type": "code",
   "execution_count": null,
   "metadata": {},
   "outputs": [],
   "source": []
  },
  {
   "cell_type": "code",
   "execution_count": null,
   "metadata": {},
   "outputs": [],
   "source": []
  },
  {
   "cell_type": "code",
   "execution_count": null,
   "metadata": {},
   "outputs": [],
   "source": []
  },
  {
   "cell_type": "code",
   "execution_count": 4,
   "metadata": {},
   "outputs": [
    {
     "data": {
      "text/html": [
       "<div>\n",
       "<style scoped>\n",
       "    .dataframe tbody tr th:only-of-type {\n",
       "        vertical-align: middle;\n",
       "    }\n",
       "\n",
       "    .dataframe tbody tr th {\n",
       "        vertical-align: top;\n",
       "    }\n",
       "\n",
       "    .dataframe thead th {\n",
       "        text-align: right;\n",
       "    }\n",
       "</style>\n",
       "<table border=\"1\" class=\"dataframe\">\n",
       "  <thead>\n",
       "    <tr style=\"text-align: right;\">\n",
       "      <th></th>\n",
       "      <th>Cluster</th>\n",
       "      <th>Barcodes</th>\n",
       "    </tr>\n",
       "  </thead>\n",
       "  <tbody>\n",
       "    <tr>\n",
       "      <th>0</th>\n",
       "      <td>7</td>\n",
       "      <td>AGCGATAGAAGAGGCACCTAGAGTTATAGCCT</td>\n",
       "    </tr>\n",
       "    <tr>\n",
       "      <th>1</th>\n",
       "      <td>3</td>\n",
       "      <td>AGCGATAGAAGAGGCACTAAGCCTCAGGACGT</td>\n",
       "    </tr>\n",
       "    <tr>\n",
       "      <th>2</th>\n",
       "      <td>8</td>\n",
       "      <td>AGCGATAGAAGAGGCAGTAAGGAGCAGGACGT</td>\n",
       "    </tr>\n",
       "    <tr>\n",
       "      <th>3</th>\n",
       "      <td>9</td>\n",
       "      <td>AGCGATAGAAGAGGCATATCCTCTCCTATCCT</td>\n",
       "    </tr>\n",
       "    <tr>\n",
       "      <th>4</th>\n",
       "      <td>2</td>\n",
       "      <td>AGCGATAGAAGAGGCATTATGCGATATAGCCT</td>\n",
       "    </tr>\n",
       "  </tbody>\n",
       "</table>\n",
       "</div>"
      ],
      "text/plain": [
       "   Cluster                          Barcodes\n",
       "0        7  AGCGATAGAAGAGGCACCTAGAGTTATAGCCT\n",
       "1        3  AGCGATAGAAGAGGCACTAAGCCTCAGGACGT\n",
       "2        8  AGCGATAGAAGAGGCAGTAAGGAGCAGGACGT\n",
       "3        9  AGCGATAGAAGAGGCATATCCTCTCCTATCCT\n",
       "4        2  AGCGATAGAAGAGGCATTATGCGATATAGCCT"
      ]
     },
     "execution_count": 4,
     "metadata": {},
     "output_type": "execute_result"
    }
   ],
   "source": [
    "#Make merged bam file for each cluster\n",
    "df.head()"
   ]
  },
  {
   "cell_type": "code",
   "execution_count": 12,
   "metadata": {},
   "outputs": [],
   "source": [
    "k1 = df.loc[(df.Cluster == 1)]"
   ]
  },
  {
   "cell_type": "code",
   "execution_count": 41,
   "metadata": {},
   "outputs": [
    {
     "name": "stderr",
     "output_type": "stream",
     "text": [
      "/home/roman/miniconda3/lib/python3.6/site-packages/ipykernel_launcher.py:4: SettingWithCopyWarning: \n",
      "A value is trying to be set on a copy of a slice from a DataFrame.\n",
      "Try using .loc[row_indexer,col_indexer] = value instead\n",
      "\n",
      "See the caveats in the documentation: http://pandas.pydata.org/pandas-docs/stable/indexing.html#indexing-view-versus-copy\n",
      "  after removing the cwd from sys.path.\n"
     ]
    }
   ],
   "source": [
    "k = {}\n",
    "for i in range(1,11):\n",
    "    k[\"cluster{0}\".format(i)] = df.loc[(df.Cluster == i)]\n",
    "    k[\"cluster{0}\".format(i)][\"Path\"] = \"/home/pds28/Jeewon/sciATAC/20180316_p56_Redo/p56.rep1_tmp/cells/\"+k[\"cluster{0}\".format(i)].Barcodes+\".sorted.nodup.bam\"\n",
    "    k[\"cluster{0}\".format(i)].Path.to_csv(\"p56.c{0}.barcodes\".format(i), header=False, index=False)"
   ]
  },
  {
   "cell_type": "code",
   "execution_count": null,
   "metadata": {},
   "outputs": [],
   "source": [
    "#in command line\n",
    "\n",
    "for sample in p56.*.barcodes; do\n",
    "  samtools merge -r -b ${sample} ${sample%.*}.bam\n",
    "done\n",
    "for sample in *.bam; do \n",
    "  samtools index ${sample%.*}\n",
    "  cat ${sample} | bamCoverage --bam ${sample} -o ${sample%.*}.bw --binSize 1 --normalizeUsingRPKM --ignoreForNormalization chrM --numberOfProcessors \"max\" ;\n",
    "done"
   ]
  },
  {
   "cell_type": "code",
   "execution_count": 40,
   "metadata": {},
   "outputs": [
    {
     "data": {
      "text/plain": [
       "'/home/pds28/Jeewon/sciATAC/20180316_p56_redo/p56.rep1_tmp/cells/AGCGATAGCGTACTAGCGTCTAATATAGAGGC.sorted.nodup.bam'"
      ]
     },
     "execution_count": 40,
     "metadata": {},
     "output_type": "execute_result"
    }
   ],
   "source": []
  }
 ],
 "metadata": {
  "kernelspec": {
   "display_name": "Python 3",
   "language": "python",
   "name": "python3"
  },
  "language_info": {
   "codemirror_mode": {
    "name": "ipython",
    "version": 3
   },
   "file_extension": ".py",
   "mimetype": "text/x-python",
   "name": "python",
   "nbconvert_exporter": "python",
   "pygments_lexer": "ipython3",
   "version": "3.6.3"
  }
 },
 "nbformat": 4,
 "nbformat_minor": 2
}
